{
 "cells": [
  {
   "cell_type": "code",
   "execution_count": 46,
   "metadata": {},
   "outputs": [],
   "source": [
    "import numpy as np\n",
    "import pandas as pd\n",
    "import csv\n",
    "import time\n",
    "import matplotlib.pyplot as plt"
   ]
  },
  {
   "cell_type": "code",
   "execution_count": 9,
   "metadata": {},
   "outputs": [],
   "source": [
    "def load_file(path):\n",
    "    file = pd.read_csv(path)\n",
    "    return file"
   ]
  },
  {
   "cell_type": "code",
   "execution_count": 14,
   "metadata": {},
   "outputs": [],
   "source": [
    "def getDictList(path):\n",
    "    reader = csv.DictReader(open(path))\n",
    "    reader = [dict(line) for line in reader]\n",
    "    return reader"
   ]
  },
  {
   "cell_type": "code",
   "execution_count": 42,
   "metadata": {},
   "outputs": [
    {
     "name": "stdout",
     "output_type": "stream",
     "text": [
      "DictReader took 0.03635597229003906 seconds\n",
      "pd took 0.0299069881439209 seconds\n"
     ]
    }
   ],
   "source": [
    "#testing efficiencies (will use pd since efficiency difference does not seem to be significant)\n",
    "start_time = time.time()\n",
    "confirmed_US = load_file(\"./csse_covid_19_data/csse_covid_19_time_series/time_series_covid19_confirmed_US.csv\")\n",
    "apr1 = load_file(\"./csse_covid_19_data/csse_covid_19_daily_reports/04-01-2020.csv\")\n",
    "print(f\"DictReader took {time.time()-start_time} seconds\")\n",
    "start_time = time.time()\n",
    "confirmed_US = load_file(\"./csse_covid_19_data/csse_covid_19_time_series/time_series_covid19_confirmed_US.csv\")\n",
    "apr1 = load_file(\"./csse_covid_19_data/csse_covid_19_daily_reports/04-01-2020.csv\")\n",
    "print(f\"pd took {time.time()-start_time} seconds\")"
   ]
  },
  {
   "cell_type": "code",
   "execution_count": 28,
   "metadata": {},
   "outputs": [],
   "source": [
    "def printData():\n",
    "    confirmed = deaths = recovered = 0\n",
    "    usC = usD = usR = 0\n",
    "    wdC = wdD = wdR = 0\n",
    "    for i in range(len(apr1)):\n",
    "        if apr1.loc[i, 'Province_State'] == 'Georgia':\n",
    "            confirmed += apr1.loc[i, 'Confirmed']\n",
    "            deaths += apr1.loc[i, 'Deaths']\n",
    "            recovered += apr1.loc[i, 'Recovered']\n",
    "        if apr1.loc[i, 'Country_Region'] == 'US':\n",
    "            usC += apr1.loc[i, 'Confirmed']\n",
    "            usD += apr1.loc[i, 'Deaths']\n",
    "            usR += apr1.loc[i, 'Recovered']\n",
    "        wdC += apr1.loc[i, 'Confirmed']\n",
    "        wdD += apr1.loc[i, 'Deaths']\n",
    "        wdR += apr1.loc[i, 'Recovered'] \n",
    "    dr = deaths/confirmed*100\n",
    "    udr = usD/usC*100\n",
    "    wdr = wdD/wdC*100\n",
    "    print(f'GA confirmed: {confirmed}, deaths: {deaths}, recovered: {recovered}, mr: {dr}')\n",
    "    print(f'US confirmed: {usC}, deaths: {usD}, recovered: {usR}, mr: {udr}')\n",
    "    print(f'World confirmed: {wdC}, deaths: {wdD}, recovered: {wdR}, mr: {wdr}')"
   ]
  },
  {
   "cell_type": "code",
   "execution_count": 29,
   "metadata": {},
   "outputs": [
    {
     "name": "stdout",
     "output_type": "stream",
     "text": [
      "GA confirmed: 4638, deaths: 139, recovered: 0, mr: 2.9969814575247953\n",
      "US confirmed: 213372, deaths: 4757, recovered: 8474, mr: 2.229439664060889\n",
      "World confirmed: 932605, deaths: 46809, recovered: 193177, mr: 5.019166742618793\n"
     ]
    }
   ],
   "source": [
    "printData()"
   ]
  },
  {
   "cell_type": "code",
   "execution_count": 64,
   "metadata": {},
   "outputs": [],
   "source": [
    "#using try except is more expensive\n",
    "def getCountryStats1():\n",
    "    countries = {}\n",
    "    for i in range(len(apr1)):\n",
    "        confirmed = apr1.loc[i, 'Confirmed']\n",
    "        deaths = apr1.loc[i, 'Deaths']\n",
    "        country = apr1.loc[i, 'Country_Region']\n",
    "        try:\n",
    "            countries[country]['confirmed'] += confirmed\n",
    "            countries[country]['deaths'] += deaths\n",
    "        except KeyError:\n",
    "            countries[country] = {'confirmed': confirmed, 'deaths': deaths}\n",
    "    return countries\n",
    "\n",
    "def getCountryStats2():\n",
    "    countries = {}\n",
    "    for i in range(len(apr1)):\n",
    "        confirmed = apr1.loc[i, 'Confirmed']\n",
    "        deaths = apr1.loc[i, 'Deaths']\n",
    "        country = apr1.loc[i, 'Country_Region']\n",
    "        mortality = 0\n",
    "        if country in countries:\n",
    "            countries[country]['confirmed'] += confirmed\n",
    "            countries[country]['deaths'] += deaths\n",
    "            countries[country]['mortality rate'] = 0\n",
    "        else:\n",
    "            countries[country] = {'confirmed': confirmed, 'deaths': deaths, 'mortality rate': mortality}\n",
    "    for country in countries:\n",
    "        c = countries[country]['confirmed']\n",
    "        d = countries[country]['deaths']\n",
    "        countries[country]['mortality rate'] = d/c*100\n",
    "    return countries"
   ]
  },
  {
   "cell_type": "code",
   "execution_count": 65,
   "metadata": {},
   "outputs": [
    {
     "name": "stdout",
     "output_type": "stream",
     "text": [
      "time elapsed: 0.06132102012634277\n",
      "time elapsed: 0.05044889450073242\n"
     ]
    }
   ],
   "source": [
    "start = time.time()\n",
    "getCountryStats1()\n",
    "print(f'time elapsed: {time.time()-start}')\n",
    "start = time.time()\n",
    "getCountryStats2()\n",
    "print(f'time elapsed: {time.time()-start}')"
   ]
  },
  {
   "cell_type": "code",
   "execution_count": 66,
   "metadata": {},
   "outputs": [
    {
     "name": "stdout",
     "output_type": "stream",
     "text": [
      "{'US': {'confirmed': 213372, 'deaths': 4757, 'mortality rate': 2.229439664060889}, 'Canada': {'confirmed': 9560, 'deaths': 109, 'mortality rate': 1.1401673640167365}, 'United Kingdom': {'confirmed': 29865, 'deaths': 2357, 'mortality rate': 7.892181483341703}, 'China': {'confirmed': 82361, 'deaths': 3316, 'mortality rate': 4.026177438350675}, 'Netherlands': {'confirmed': 13696, 'deaths': 1175, 'mortality rate': 8.579147196261683}, 'Australia': {'confirmed': 4862, 'deaths': 20, 'mortality rate': 0.4113533525298231}, 'Denmark': {'confirmed': 3290, 'deaths': 104, 'mortality rate': 3.1610942249240126}, 'France': {'confirmed': 57749, 'deaths': 4043, 'mortality rate': 7.000987030078443}, 'Afghanistan': {'confirmed': 237, 'deaths': 4, 'mortality rate': 1.6877637130801686}, 'Albania': {'confirmed': 259, 'deaths': 15, 'mortality rate': 5.7915057915057915}, 'Algeria': {'confirmed': 847, 'deaths': 58, 'mortality rate': 6.8476977567886665}, 'Andorra': {'confirmed': 390, 'deaths': 14, 'mortality rate': 3.5897435897435894}, 'Angola': {'confirmed': 8, 'deaths': 2, 'mortality rate': 25.0}, 'Antigua and Barbuda': {'confirmed': 7, 'deaths': 0, 'mortality rate': 0.0}, 'Argentina': {'confirmed': 1054, 'deaths': 28, 'mortality rate': 2.6565464895635675}, 'Armenia': {'confirmed': 571, 'deaths': 4, 'mortality rate': 0.7005253940455342}, 'Austria': {'confirmed': 10711, 'deaths': 146, 'mortality rate': 1.3630846793016524}, 'Azerbaijan': {'confirmed': 359, 'deaths': 5, 'mortality rate': 1.392757660167131}, 'Bahamas': {'confirmed': 21, 'deaths': 1, 'mortality rate': 4.761904761904762}, 'Bahrain': {'confirmed': 569, 'deaths': 4, 'mortality rate': 0.7029876977152899}, 'Bangladesh': {'confirmed': 54, 'deaths': 6, 'mortality rate': 11.11111111111111}, 'Barbados': {'confirmed': 34, 'deaths': 0, 'mortality rate': 0.0}, 'Belarus': {'confirmed': 163, 'deaths': 2, 'mortality rate': 1.2269938650306749}, 'Belgium': {'confirmed': 13964, 'deaths': 828, 'mortality rate': 5.929533085075909}, 'Belize': {'confirmed': 3, 'deaths': 0, 'mortality rate': 0.0}, 'Benin': {'confirmed': 13, 'deaths': 0, 'mortality rate': 0.0}, 'Bhutan': {'confirmed': 4, 'deaths': 0, 'mortality rate': 0.0}, 'Bolivia': {'confirmed': 115, 'deaths': 7, 'mortality rate': 6.086956521739131}, 'Bosnia and Herzegovina': {'confirmed': 459, 'deaths': 13, 'mortality rate': 2.832244008714597}, 'Botswana': {'confirmed': 4, 'deaths': 1, 'mortality rate': 25.0}, 'Brazil': {'confirmed': 6836, 'deaths': 240, 'mortality rate': 3.510825043885313}, 'Brunei': {'confirmed': 131, 'deaths': 1, 'mortality rate': 0.7633587786259541}, 'Bulgaria': {'confirmed': 422, 'deaths': 10, 'mortality rate': 2.3696682464454977}, 'Burkina Faso': {'confirmed': 282, 'deaths': 16, 'mortality rate': 5.673758865248227}, 'Burma': {'confirmed': 15, 'deaths': 1, 'mortality rate': 6.666666666666667}, 'Burundi': {'confirmed': 2, 'deaths': 0, 'mortality rate': 0.0}, 'Cabo Verde': {'confirmed': 6, 'deaths': 1, 'mortality rate': 16.666666666666664}, 'Cambodia': {'confirmed': 109, 'deaths': 0, 'mortality rate': 0.0}, 'Cameroon': {'confirmed': 233, 'deaths': 6, 'mortality rate': 2.575107296137339}, 'Central African Republic': {'confirmed': 3, 'deaths': 0, 'mortality rate': 0.0}, 'Chad': {'confirmed': 7, 'deaths': 0, 'mortality rate': 0.0}, 'Chile': {'confirmed': 3031, 'deaths': 16, 'mortality rate': 0.5278785879247773}, 'Colombia': {'confirmed': 1065, 'deaths': 17, 'mortality rate': 1.5962441314553992}, 'Congo (Brazzaville)': {'confirmed': 19, 'deaths': 0, 'mortality rate': 0.0}, 'Congo (Kinshasa)': {'confirmed': 109, 'deaths': 9, 'mortality rate': 8.256880733944955}, 'Costa Rica': {'confirmed': 375, 'deaths': 2, 'mortality rate': 0.5333333333333333}, \"Cote d'Ivoire\": {'confirmed': 190, 'deaths': 1, 'mortality rate': 0.5263157894736842}, 'Croatia': {'confirmed': 963, 'deaths': 6, 'mortality rate': 0.6230529595015576}, 'Cuba': {'confirmed': 212, 'deaths': 6, 'mortality rate': 2.8301886792452833}, 'Cyprus': {'confirmed': 320, 'deaths': 9, 'mortality rate': 2.8125}, 'Czechia': {'confirmed': 3508, 'deaths': 39, 'mortality rate': 1.1117445838084379}, 'Diamond Princess': {'confirmed': 712, 'deaths': 11, 'mortality rate': 1.544943820224719}, 'Djibouti': {'confirmed': 33, 'deaths': 0, 'mortality rate': 0.0}, 'Dominica': {'confirmed': 12, 'deaths': 0, 'mortality rate': 0.0}, 'Dominican Republic': {'confirmed': 1284, 'deaths': 57, 'mortality rate': 4.439252336448598}, 'Ecuador': {'confirmed': 2748, 'deaths': 93, 'mortality rate': 3.384279475982533}, 'Egypt': {'confirmed': 779, 'deaths': 52, 'mortality rate': 6.675224646983311}, 'El Salvador': {'confirmed': 32, 'deaths': 1, 'mortality rate': 3.125}, 'Equatorial Guinea': {'confirmed': 15, 'deaths': 0, 'mortality rate': 0.0}, 'Eritrea': {'confirmed': 15, 'deaths': 0, 'mortality rate': 0.0}, 'Estonia': {'confirmed': 779, 'deaths': 5, 'mortality rate': 0.6418485237483954}, 'Eswatini': {'confirmed': 9, 'deaths': 0, 'mortality rate': 0.0}, 'Ethiopia': {'confirmed': 29, 'deaths': 0, 'mortality rate': 0.0}, 'Fiji': {'confirmed': 5, 'deaths': 0, 'mortality rate': 0.0}, 'Finland': {'confirmed': 1446, 'deaths': 17, 'mortality rate': 1.1756569847856155}, 'Gabon': {'confirmed': 18, 'deaths': 1, 'mortality rate': 5.555555555555555}, 'Gambia': {'confirmed': 4, 'deaths': 1, 'mortality rate': 25.0}, 'Georgia': {'confirmed': 117, 'deaths': 0, 'mortality rate': 0.0}, 'Germany': {'confirmed': 77872, 'deaths': 920, 'mortality rate': 1.1814259297308405}, 'Ghana': {'confirmed': 195, 'deaths': 5, 'mortality rate': 2.564102564102564}, 'Greece': {'confirmed': 1415, 'deaths': 50, 'mortality rate': 3.53356890459364}, 'Grenada': {'confirmed': 9, 'deaths': 0, 'mortality rate': 0.0}, 'Guatemala': {'confirmed': 39, 'deaths': 1, 'mortality rate': 2.564102564102564}, 'Guinea': {'confirmed': 30, 'deaths': 0, 'mortality rate': 0.0}, 'Guinea-Bissau': {'confirmed': 9, 'deaths': 0, 'mortality rate': 0.0}, 'Guyana': {'confirmed': 19, 'deaths': 2, 'mortality rate': 10.526315789473683}, 'Haiti': {'confirmed': 16, 'deaths': 0, 'mortality rate': 0.0}, 'Holy See': {'confirmed': 6, 'deaths': 0, 'mortality rate': 0.0}, 'Honduras': {'confirmed': 172, 'deaths': 10, 'mortality rate': 5.813953488372093}, 'Hungary': {'confirmed': 525, 'deaths': 20, 'mortality rate': 3.8095238095238098}, 'Iceland': {'confirmed': 1220, 'deaths': 2, 'mortality rate': 0.16393442622950818}, 'India': {'confirmed': 1998, 'deaths': 58, 'mortality rate': 2.902902902902903}, 'Indonesia': {'confirmed': 1677, 'deaths': 157, 'mortality rate': 9.36195587358378}, 'Iran': {'confirmed': 47593, 'deaths': 3036, 'mortality rate': 6.379089361880949}, 'Iraq': {'confirmed': 728, 'deaths': 52, 'mortality rate': 7.142857142857142}, 'Ireland': {'confirmed': 3447, 'deaths': 85, 'mortality rate': 2.465912387583406}, 'Israel': {'confirmed': 6092, 'deaths': 26, 'mortality rate': 0.4267892317793828}, 'Italy': {'confirmed': 110574, 'deaths': 13155, 'mortality rate': 11.897010147050842}, 'Jamaica': {'confirmed': 44, 'deaths': 3, 'mortality rate': 6.8181818181818175}, 'Japan': {'confirmed': 2178, 'deaths': 57, 'mortality rate': 2.6170798898071626}, 'Jordan': {'confirmed': 278, 'deaths': 5, 'mortality rate': 1.7985611510791366}, 'Kazakhstan': {'confirmed': 380, 'deaths': 3, 'mortality rate': 0.7894736842105263}, 'Kenya': {'confirmed': 81, 'deaths': 1, 'mortality rate': 1.2345679012345678}, 'Korea, South': {'confirmed': 9887, 'deaths': 165, 'mortality rate': 1.6688580964903408}, 'Kosovo': {'confirmed': 125, 'deaths': 1, 'mortality rate': 0.8}, 'Kuwait': {'confirmed': 317, 'deaths': 0, 'mortality rate': 0.0}, 'Kyrgyzstan': {'confirmed': 111, 'deaths': 0, 'mortality rate': 0.0}, 'Laos': {'confirmed': 10, 'deaths': 0, 'mortality rate': 0.0}, 'Latvia': {'confirmed': 446, 'deaths': 0, 'mortality rate': 0.0}, 'Lebanon': {'confirmed': 479, 'deaths': 14, 'mortality rate': 2.9227557411273484}, 'Liberia': {'confirmed': 6, 'deaths': 0, 'mortality rate': 0.0}, 'Libya': {'confirmed': 10, 'deaths': 0, 'mortality rate': 0.0}, 'Liechtenstein': {'confirmed': 68, 'deaths': 0, 'mortality rate': 0.0}, 'Lithuania': {'confirmed': 581, 'deaths': 8, 'mortality rate': 1.376936316695353}, 'Luxembourg': {'confirmed': 2319, 'deaths': 29, 'mortality rate': 1.250539025442001}, 'MS Zaandam': {'confirmed': 9, 'deaths': 2, 'mortality rate': 22.22222222222222}, 'Madagascar': {'confirmed': 57, 'deaths': 0, 'mortality rate': 0.0}, 'Malaysia': {'confirmed': 2908, 'deaths': 45, 'mortality rate': 1.547455295735901}, 'Maldives': {'confirmed': 19, 'deaths': 0, 'mortality rate': 0.0}, 'Mali': {'confirmed': 31, 'deaths': 3, 'mortality rate': 9.67741935483871}, 'Malta': {'confirmed': 188, 'deaths': 0, 'mortality rate': 0.0}, 'Mauritania': {'confirmed': 6, 'deaths': 1, 'mortality rate': 16.666666666666664}, 'Mauritius': {'confirmed': 161, 'deaths': 6, 'mortality rate': 3.7267080745341614}, 'Mexico': {'confirmed': 1215, 'deaths': 29, 'mortality rate': 2.386831275720165}, 'Moldova': {'confirmed': 423, 'deaths': 5, 'mortality rate': 1.1820330969267139}, 'Monaco': {'confirmed': 55, 'deaths': 1, 'mortality rate': 1.8181818181818181}, 'Mongolia': {'confirmed': 14, 'deaths': 0, 'mortality rate': 0.0}, 'Montenegro': {'confirmed': 123, 'deaths': 2, 'mortality rate': 1.6260162601626018}, 'Morocco': {'confirmed': 654, 'deaths': 39, 'mortality rate': 5.963302752293578}, 'Mozambique': {'confirmed': 10, 'deaths': 0, 'mortality rate': 0.0}, 'Namibia': {'confirmed': 14, 'deaths': 0, 'mortality rate': 0.0}, 'Nepal': {'confirmed': 5, 'deaths': 0, 'mortality rate': 0.0}, 'New Zealand': {'confirmed': 708, 'deaths': 1, 'mortality rate': 0.14124293785310735}, 'Nicaragua': {'confirmed': 5, 'deaths': 1, 'mortality rate': 20.0}, 'Niger': {'confirmed': 74, 'deaths': 5, 'mortality rate': 6.756756756756757}, 'Nigeria': {'confirmed': 174, 'deaths': 2, 'mortality rate': 1.1494252873563218}, 'North Macedonia': {'confirmed': 354, 'deaths': 11, 'mortality rate': 3.1073446327683616}, 'Norway': {'confirmed': 4863, 'deaths': 44, 'mortality rate': 0.9047912811022003}, 'Oman': {'confirmed': 210, 'deaths': 1, 'mortality rate': 0.4761904761904762}, 'Pakistan': {'confirmed': 2118, 'deaths': 27, 'mortality rate': 1.2747875354107647}, 'Panama': {'confirmed': 1181, 'deaths': 30, 'mortality rate': 2.5402201524132093}, 'Papua New Guinea': {'confirmed': 1, 'deaths': 0, 'mortality rate': 0.0}, 'Paraguay': {'confirmed': 69, 'deaths': 3, 'mortality rate': 4.3478260869565215}, 'Peru': {'confirmed': 1323, 'deaths': 38, 'mortality rate': 2.872260015117158}, 'Philippines': {'confirmed': 2311, 'deaths': 96, 'mortality rate': 4.154045867589788}, 'Poland': {'confirmed': 2554, 'deaths': 43, 'mortality rate': 1.6836335160532498}, 'Portugal': {'confirmed': 8251, 'deaths': 187, 'mortality rate': 2.2663919524906073}, 'Qatar': {'confirmed': 835, 'deaths': 2, 'mortality rate': 0.23952095808383234}, 'Romania': {'confirmed': 2460, 'deaths': 92, 'mortality rate': 3.7398373983739837}, 'Russia': {'confirmed': 2777, 'deaths': 24, 'mortality rate': 0.8642419877565718}, 'Rwanda': {'confirmed': 82, 'deaths': 0, 'mortality rate': 0.0}, 'Saint Kitts and Nevis': {'confirmed': 8, 'deaths': 0, 'mortality rate': 0.0}, 'Saint Lucia': {'confirmed': 13, 'deaths': 0, 'mortality rate': 0.0}, 'Saint Vincent and the Grenadines': {'confirmed': 1, 'deaths': 0, 'mortality rate': 0.0}, 'San Marino': {'confirmed': 236, 'deaths': 26, 'mortality rate': 11.016949152542372}, 'Saudi Arabia': {'confirmed': 1720, 'deaths': 16, 'mortality rate': 0.9302325581395349}, 'Senegal': {'confirmed': 190, 'deaths': 1, 'mortality rate': 0.5263157894736842}, 'Serbia': {'confirmed': 1060, 'deaths': 28, 'mortality rate': 2.6415094339622645}, 'Seychelles': {'confirmed': 10, 'deaths': 0, 'mortality rate': 0.0}, 'Sierra Leone': {'confirmed': 2, 'deaths': 0, 'mortality rate': 0.0}, 'Singapore': {'confirmed': 1000, 'deaths': 3, 'mortality rate': 0.3}, 'Slovakia': {'confirmed': 400, 'deaths': 1, 'mortality rate': 0.25}, 'Slovenia': {'confirmed': 841, 'deaths': 15, 'mortality rate': 1.78359096313912}, 'Somalia': {'confirmed': 5, 'deaths': 0, 'mortality rate': 0.0}, 'South Africa': {'confirmed': 1380, 'deaths': 5, 'mortality rate': 0.36231884057971014}, 'Spain': {'confirmed': 104118, 'deaths': 9387, 'mortality rate': 9.015732150060508}, 'Sri Lanka': {'confirmed': 146, 'deaths': 3, 'mortality rate': 2.054794520547945}, 'Sudan': {'confirmed': 7, 'deaths': 2, 'mortality rate': 28.57142857142857}, 'Suriname': {'confirmed': 10, 'deaths': 0, 'mortality rate': 0.0}, 'Sweden': {'confirmed': 4947, 'deaths': 239, 'mortality rate': 4.831210834849404}, 'Switzerland': {'confirmed': 17768, 'deaths': 488, 'mortality rate': 2.746510580819451}, 'Syria': {'confirmed': 10, 'deaths': 2, 'mortality rate': 20.0}, 'Taiwan*': {'confirmed': 329, 'deaths': 5, 'mortality rate': 1.5197568389057752}, 'Tanzania': {'confirmed': 20, 'deaths': 1, 'mortality rate': 5.0}, 'Thailand': {'confirmed': 1771, 'deaths': 12, 'mortality rate': 0.6775832862789385}, 'Timor-Leste': {'confirmed': 1, 'deaths': 0, 'mortality rate': 0.0}, 'Togo': {'confirmed': 36, 'deaths': 2, 'mortality rate': 5.555555555555555}, 'Trinidad and Tobago': {'confirmed': 90, 'deaths': 5, 'mortality rate': 5.555555555555555}, 'Tunisia': {'confirmed': 423, 'deaths': 12, 'mortality rate': 2.8368794326241136}, 'Turkey': {'confirmed': 15679, 'deaths': 277, 'mortality rate': 1.7666943044837045}, 'Uganda': {'confirmed': 44, 'deaths': 0, 'mortality rate': 0.0}, 'Ukraine': {'confirmed': 794, 'deaths': 20, 'mortality rate': 2.518891687657431}, 'United Arab Emirates': {'confirmed': 814, 'deaths': 8, 'mortality rate': 0.9828009828009828}, 'Uruguay': {'confirmed': 338, 'deaths': 2, 'mortality rate': 0.591715976331361}, 'Uzbekistan': {'confirmed': 181, 'deaths': 2, 'mortality rate': 1.1049723756906076}, 'Venezuela': {'confirmed': 143, 'deaths': 3, 'mortality rate': 2.097902097902098}, 'Vietnam': {'confirmed': 218, 'deaths': 0, 'mortality rate': 0.0}, 'West Bank and Gaza': {'confirmed': 134, 'deaths': 1, 'mortality rate': 0.7462686567164178}, 'Zambia': {'confirmed': 36, 'deaths': 0, 'mortality rate': 0.0}, 'Zimbabwe': {'confirmed': 8, 'deaths': 1, 'mortality rate': 12.5}}\n"
     ]
    }
   ],
   "source": [
    "print(getCountryStats2())"
   ]
  },
  {
   "cell_type": "code",
   "execution_count": null,
   "metadata": {},
   "outputs": [],
   "source": []
  }
 ],
 "metadata": {
  "kernelspec": {
   "display_name": "Python 3",
   "language": "python",
   "name": "python3"
  },
  "language_info": {
   "codemirror_mode": {
    "name": "ipython",
    "version": 3
   },
   "file_extension": ".py",
   "mimetype": "text/x-python",
   "name": "python",
   "nbconvert_exporter": "python",
   "pygments_lexer": "ipython3",
   "version": "3.7.3"
  }
 },
 "nbformat": 4,
 "nbformat_minor": 4
}
