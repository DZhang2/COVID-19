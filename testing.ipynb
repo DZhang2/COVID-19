{
 "cells": [
  {
   "cell_type": "code",
   "execution_count": 16,
   "metadata": {},
   "outputs": [],
   "source": [
    "import numpy as np\n",
    "import pandas as pd\n",
    "import csv\n",
    "import time\n",
    "import matplotlib.pyplot as plt"
   ]
  },
  {
   "cell_type": "code",
   "execution_count": 17,
   "metadata": {},
   "outputs": [],
   "source": [
    "def load_file(path):\n",
    "    file = pd.read_csv(path)\n",
    "    return file"
   ]
  },
  {
   "cell_type": "code",
   "execution_count": 18,
   "metadata": {},
   "outputs": [],
   "source": [
    "def getDictList(path):\n",
    "    reader = csv.DictReader(open(path))\n",
    "    reader = [dict(line) for line in reader]\n",
    "    return reader"
   ]
  },
  {
   "cell_type": "code",
   "execution_count": 19,
   "metadata": {},
   "outputs": [
    {
     "name": "stdout",
     "output_type": "stream",
     "text": [
      "DictReader took 0.034603118896484375 seconds\n",
      "pd took 0.03330397605895996 seconds\n"
     ]
    }
   ],
   "source": [
    "#testing efficiencies (will use pd since efficiency difference does not seem to be significant)\n",
    "start_time = time.time()\n",
    "confirmed_US = load_file(\"./csse_covid_19_data/csse_covid_19_time_series/time_series_covid19_confirmed_US.csv\")\n",
    "apr1 = load_file(\"./csse_covid_19_data/csse_covid_19_daily_reports/04-01-2020.csv\")\n",
    "print(f\"DictReader took {time.time()-start_time} seconds\")\n",
    "start_time = time.time()\n",
    "confirmed_US = load_file(\"./csse_covid_19_data/csse_covid_19_time_series/time_series_covid19_confirmed_US.csv\")\n",
    "apr1 = load_file(\"./csse_covid_19_data/csse_covid_19_daily_reports/04-02-2020.csv\")\n",
    "print(f\"pd took {time.time()-start_time} seconds\")"
   ]
  },
  {
   "cell_type": "code",
   "execution_count": 20,
   "metadata": {},
   "outputs": [],
   "source": [
    "def printData():\n",
    "    confirmed = deaths = recovered = 0\n",
    "    usC = usD = usR = 0\n",
    "    wdC = wdD = wdR = 0\n",
    "    for i in range(len(apr1)):\n",
    "        if apr1.loc[i, 'Province_State'] == 'Georgia':\n",
    "            confirmed += apr1.loc[i, 'Confirmed']\n",
    "            deaths += apr1.loc[i, 'Deaths']\n",
    "            recovered += apr1.loc[i, 'Recovered']\n",
    "        if apr1.loc[i, 'Country_Region'] == 'US':\n",
    "            usC += apr1.loc[i, 'Confirmed']\n",
    "            usD += apr1.loc[i, 'Deaths']\n",
    "            usR += apr1.loc[i, 'Recovered']\n",
    "        wdC += apr1.loc[i, 'Confirmed']\n",
    "        wdD += apr1.loc[i, 'Deaths']\n",
    "        wdR += apr1.loc[i, 'Recovered'] \n",
    "    dr = deaths/confirmed*100\n",
    "    udr = usD/usC*100\n",
    "    wdr = wdD/wdC*100\n",
    "    print(f'GA confirmed: {confirmed}, deaths: {deaths}, recovered: {recovered}, mr: {dr}')\n",
    "    print(f'US confirmed: {usC}, deaths: {usD}, recovered: {usR}, mr: {udr}')\n",
    "    print(f'World confirmed: {wdC}, deaths: {wdD}, recovered: {wdR}, mr: {wdr}')"
   ]
  },
  {
   "cell_type": "code",
   "execution_count": 21,
   "metadata": {},
   "outputs": [
    {
     "name": "stdout",
     "output_type": "stream",
     "text": [
      "GA confirmed: 5348, deaths: 163, recovered: 0, mr: 3.0478683620044875\n",
      "US confirmed: 243453, deaths: 5926, recovered: 9001, mr: 2.4341453997280786\n",
      "World confirmed: 1013157, deaths: 52983, recovered: 210263, mr: 5.2294955273467\n"
     ]
    }
   ],
   "source": [
    "printData()"
   ]
  },
  {
   "cell_type": "code",
   "execution_count": 22,
   "metadata": {},
   "outputs": [],
   "source": [
    "#using try except is more expensive\n",
    "def getCountryStats1():\n",
    "    countries = {}\n",
    "    for i in range(len(apr1)):\n",
    "        confirmed = apr1.loc[i, 'Confirmed']\n",
    "        deaths = apr1.loc[i, 'Deaths']\n",
    "        country = apr1.loc[i, 'Country_Region']\n",
    "        try:\n",
    "            countries[country]['confirmed'] += confirmed\n",
    "            countries[country]['deaths'] += deaths\n",
    "        except KeyError:\n",
    "            countries[country] = {'confirmed': confirmed, 'deaths': deaths}\n",
    "    return countries\n",
    "\n",
    "def getCountryStats2():\n",
    "    countries = {}\n",
    "    for i in range(len(apr1)):\n",
    "        confirmed = apr1.loc[i, 'Confirmed']\n",
    "        deaths = apr1.loc[i, 'Deaths']\n",
    "        country = apr1.loc[i, 'Country_Region']\n",
    "        mortality = 0\n",
    "        if country in countries:\n",
    "            countries[country]['confirmed'] += confirmed\n",
    "            countries[country]['deaths'] += deaths\n",
    "            countries[country]['mortality rate'] = 0\n",
    "        else:\n",
    "            countries[country] = {'confirmed': confirmed, 'deaths': deaths, 'mortality rate': mortality}\n",
    "    for country in countries:\n",
    "        c = countries[country]['confirmed']\n",
    "        d = countries[country]['deaths']\n",
    "        countries[country]['mortality rate'] = d/c*100\n",
    "    return countries"
   ]
  },
  {
   "cell_type": "code",
   "execution_count": 23,
   "metadata": {},
   "outputs": [
    {
     "name": "stdout",
     "output_type": "stream",
     "text": [
      "time elapsed: 0.0661478042602539\n",
      "time elapsed: 0.05374574661254883\n"
     ]
    }
   ],
   "source": [
    "start = time.time()\n",
    "getCountryStats1()\n",
    "print(f'time elapsed: {time.time()-start}')\n",
    "start = time.time()\n",
    "countries = getCountryStats2()\n",
    "print(f'time elapsed: {time.time()-start}')"
   ]
  },
  {
   "cell_type": "code",
   "execution_count": 24,
   "metadata": {},
   "outputs": [
    {
     "name": "stdout",
     "output_type": "stream",
     "text": [
      "{'US': {'confirmed': 243453, 'deaths': 5926, 'mortality rate': 2.4341453997280786}, 'Canada': {'confirmed': 11284, 'deaths': 139, 'mortality rate': 1.2318326834455866}, 'United Kingdom': {'confirmed': 34173, 'deaths': 2926, 'mortality rate': 8.562315278143563}, 'China': {'confirmed': 82432, 'deaths': 3322, 'mortality rate': 4.029988354037267}, 'Netherlands': {'confirmed': 14788, 'deaths': 1341, 'mortality rate': 9.068163375710036}, 'Australia': {'confirmed': 5116, 'deaths': 24, 'mortality rate': 0.46911649726348714}, 'Denmark': {'confirmed': 3573, 'deaths': 123, 'mortality rate': 3.4424853064651555}, 'France': {'confirmed': 59929, 'deaths': 5398, 'mortality rate': 9.007325334979727}, 'Afghanistan': {'confirmed': 273, 'deaths': 6, 'mortality rate': 2.197802197802198}, 'Albania': {'confirmed': 277, 'deaths': 16, 'mortality rate': 5.776173285198556}, 'Algeria': {'confirmed': 986, 'deaths': 86, 'mortality rate': 8.72210953346856}, 'Andorra': {'confirmed': 428, 'deaths': 15, 'mortality rate': 3.5046728971962615}, 'Angola': {'confirmed': 8, 'deaths': 2, 'mortality rate': 25.0}, 'Antigua and Barbuda': {'confirmed': 9, 'deaths': 0, 'mortality rate': 0.0}, 'Argentina': {'confirmed': 1133, 'deaths': 36, 'mortality rate': 3.1774051191526915}, 'Armenia': {'confirmed': 663, 'deaths': 7, 'mortality rate': 1.0558069381598794}, 'Austria': {'confirmed': 11129, 'deaths': 158, 'mortality rate': 1.4197142600413335}, 'Azerbaijan': {'confirmed': 400, 'deaths': 5, 'mortality rate': 1.25}, 'Bahamas': {'confirmed': 24, 'deaths': 1, 'mortality rate': 4.166666666666666}, 'Bahrain': {'confirmed': 643, 'deaths': 4, 'mortality rate': 0.6220839813374806}, 'Bangladesh': {'confirmed': 56, 'deaths': 6, 'mortality rate': 10.714285714285714}, 'Barbados': {'confirmed': 46, 'deaths': 0, 'mortality rate': 0.0}, 'Belarus': {'confirmed': 304, 'deaths': 4, 'mortality rate': 1.3157894736842104}, 'Belgium': {'confirmed': 15348, 'deaths': 1011, 'mortality rate': 6.587177482408131}, 'Belize': {'confirmed': 3, 'deaths': 0, 'mortality rate': 0.0}, 'Benin': {'confirmed': 13, 'deaths': 0, 'mortality rate': 0.0}, 'Bhutan': {'confirmed': 5, 'deaths': 0, 'mortality rate': 0.0}, 'Bolivia': {'confirmed': 123, 'deaths': 8, 'mortality rate': 6.504065040650407}, 'Bosnia and Herzegovina': {'confirmed': 533, 'deaths': 16, 'mortality rate': 3.0018761726078798}, 'Botswana': {'confirmed': 4, 'deaths': 1, 'mortality rate': 25.0}, 'Brazil': {'confirmed': 8044, 'deaths': 324, 'mortality rate': 4.027846842366982}, 'Brunei': {'confirmed': 133, 'deaths': 1, 'mortality rate': 0.7518796992481203}, 'Bulgaria': {'confirmed': 457, 'deaths': 10, 'mortality rate': 2.1881838074398248}, 'Burkina Faso': {'confirmed': 288, 'deaths': 16, 'mortality rate': 5.555555555555555}, 'Burma': {'confirmed': 20, 'deaths': 1, 'mortality rate': 5.0}, 'Burundi': {'confirmed': 3, 'deaths': 0, 'mortality rate': 0.0}, 'Cabo Verde': {'confirmed': 6, 'deaths': 1, 'mortality rate': 16.666666666666664}, 'Cambodia': {'confirmed': 110, 'deaths': 0, 'mortality rate': 0.0}, 'Cameroon': {'confirmed': 306, 'deaths': 7, 'mortality rate': 2.287581699346405}, 'Central African Republic': {'confirmed': 3, 'deaths': 0, 'mortality rate': 0.0}, 'Chad': {'confirmed': 8, 'deaths': 0, 'mortality rate': 0.0}, 'Chile': {'confirmed': 3404, 'deaths': 18, 'mortality rate': 0.5287896592244419}, 'Colombia': {'confirmed': 1161, 'deaths': 19, 'mortality rate': 1.636520241171404}, 'Congo (Brazzaville)': {'confirmed': 22, 'deaths': 2, 'mortality rate': 9.090909090909092}, 'Congo (Kinshasa)': {'confirmed': 134, 'deaths': 13, 'mortality rate': 9.701492537313433}, 'Costa Rica': {'confirmed': 396, 'deaths': 2, 'mortality rate': 0.5050505050505051}, \"Cote d'Ivoire\": {'confirmed': 194, 'deaths': 1, 'mortality rate': 0.5154639175257731}, 'Croatia': {'confirmed': 1011, 'deaths': 7, 'mortality rate': 0.6923837784371909}, 'Cuba': {'confirmed': 233, 'deaths': 6, 'mortality rate': 2.575107296137339}, 'Cyprus': {'confirmed': 356, 'deaths': 10, 'mortality rate': 2.8089887640449436}, 'Czechia': {'confirmed': 3858, 'deaths': 44, 'mortality rate': 1.1404872991187145}, 'Diamond Princess': {'confirmed': 712, 'deaths': 11, 'mortality rate': 1.544943820224719}, 'Djibouti': {'confirmed': 40, 'deaths': 0, 'mortality rate': 0.0}, 'Dominica': {'confirmed': 12, 'deaths': 0, 'mortality rate': 0.0}, 'Dominican Republic': {'confirmed': 1380, 'deaths': 60, 'mortality rate': 4.3478260869565215}, 'Ecuador': {'confirmed': 3163, 'deaths': 120, 'mortality rate': 3.7938665823585205}, 'Egypt': {'confirmed': 865, 'deaths': 58, 'mortality rate': 6.705202312138728}, 'El Salvador': {'confirmed': 41, 'deaths': 2, 'mortality rate': 4.878048780487805}, 'Equatorial Guinea': {'confirmed': 15, 'deaths': 0, 'mortality rate': 0.0}, 'Eritrea': {'confirmed': 22, 'deaths': 0, 'mortality rate': 0.0}, 'Estonia': {'confirmed': 858, 'deaths': 11, 'mortality rate': 1.282051282051282}, 'Eswatini': {'confirmed': 9, 'deaths': 0, 'mortality rate': 0.0}, 'Ethiopia': {'confirmed': 29, 'deaths': 0, 'mortality rate': 0.0}, 'Fiji': {'confirmed': 7, 'deaths': 0, 'mortality rate': 0.0}, 'Finland': {'confirmed': 1518, 'deaths': 19, 'mortality rate': 1.251646903820817}, 'Gabon': {'confirmed': 21, 'deaths': 1, 'mortality rate': 4.761904761904762}, 'Gambia': {'confirmed': 4, 'deaths': 1, 'mortality rate': 25.0}, 'Georgia': {'confirmed': 134, 'deaths': 0, 'mortality rate': 0.0}, 'Germany': {'confirmed': 84794, 'deaths': 1107, 'mortality rate': 1.305516899780645}, 'Ghana': {'confirmed': 204, 'deaths': 5, 'mortality rate': 2.450980392156863}, 'Greece': {'confirmed': 1544, 'deaths': 53, 'mortality rate': 3.432642487046632}, 'Grenada': {'confirmed': 10, 'deaths': 0, 'mortality rate': 0.0}, 'Guatemala': {'confirmed': 47, 'deaths': 1, 'mortality rate': 2.127659574468085}, 'Guinea': {'confirmed': 52, 'deaths': 0, 'mortality rate': 0.0}, 'Guinea-Bissau': {'confirmed': 9, 'deaths': 0, 'mortality rate': 0.0}, 'Guyana': {'confirmed': 19, 'deaths': 4, 'mortality rate': 21.052631578947366}, 'Haiti': {'confirmed': 16, 'deaths': 0, 'mortality rate': 0.0}, 'Holy See': {'confirmed': 7, 'deaths': 0, 'mortality rate': 0.0}, 'Honduras': {'confirmed': 219, 'deaths': 14, 'mortality rate': 6.392694063926941}, 'Hungary': {'confirmed': 585, 'deaths': 21, 'mortality rate': 3.5897435897435894}, 'Iceland': {'confirmed': 1319, 'deaths': 4, 'mortality rate': 0.3032600454890068}, 'India': {'confirmed': 2543, 'deaths': 72, 'mortality rate': 2.8313016122689736}, 'Indonesia': {'confirmed': 1790, 'deaths': 170, 'mortality rate': 9.497206703910614}, 'Iran': {'confirmed': 50468, 'deaths': 3160, 'mortality rate': 6.2613933581675525}, 'Iraq': {'confirmed': 772, 'deaths': 54, 'mortality rate': 6.994818652849741}, 'Ireland': {'confirmed': 3849, 'deaths': 98, 'mortality rate': 2.546115874253053}, 'Israel': {'confirmed': 6857, 'deaths': 36, 'mortality rate': 0.5250109377278693}, 'Italy': {'confirmed': 115242, 'deaths': 13915, 'mortality rate': 12.074590860970828}, 'Jamaica': {'confirmed': 47, 'deaths': 3, 'mortality rate': 6.382978723404255}, 'Japan': {'confirmed': 2495, 'deaths': 62, 'mortality rate': 2.4849699398797593}, 'Jordan': {'confirmed': 299, 'deaths': 5, 'mortality rate': 1.6722408026755853}, 'Kazakhstan': {'confirmed': 435, 'deaths': 3, 'mortality rate': 0.6896551724137931}, 'Kenya': {'confirmed': 110, 'deaths': 3, 'mortality rate': 2.727272727272727}, 'Korea, South': {'confirmed': 9976, 'deaths': 169, 'mortality rate': 1.6940657578187652}, 'Kosovo': {'confirmed': 125, 'deaths': 1, 'mortality rate': 0.8}, 'Kuwait': {'confirmed': 342, 'deaths': 0, 'mortality rate': 0.0}, 'Kyrgyzstan': {'confirmed': 116, 'deaths': 0, 'mortality rate': 0.0}, 'Laos': {'confirmed': 10, 'deaths': 0, 'mortality rate': 0.0}, 'Latvia': {'confirmed': 458, 'deaths': 0, 'mortality rate': 0.0}, 'Lebanon': {'confirmed': 494, 'deaths': 16, 'mortality rate': 3.2388663967611335}, 'Liberia': {'confirmed': 6, 'deaths': 0, 'mortality rate': 0.0}, 'Libya': {'confirmed': 11, 'deaths': 1, 'mortality rate': 9.090909090909092}, 'Liechtenstein': {'confirmed': 75, 'deaths': 0, 'mortality rate': 0.0}, 'Lithuania': {'confirmed': 649, 'deaths': 9, 'mortality rate': 1.386748844375963}, 'Luxembourg': {'confirmed': 2487, 'deaths': 30, 'mortality rate': 1.2062726176115801}, 'MS Zaandam': {'confirmed': 9, 'deaths': 2, 'mortality rate': 22.22222222222222}, 'Madagascar': {'confirmed': 59, 'deaths': 0, 'mortality rate': 0.0}, 'Malawi': {'confirmed': 3, 'deaths': 0, 'mortality rate': 0.0}, 'Malaysia': {'confirmed': 3116, 'deaths': 50, 'mortality rate': 1.6046213093709885}, 'Maldives': {'confirmed': 19, 'deaths': 0, 'mortality rate': 0.0}, 'Mali': {'confirmed': 36, 'deaths': 3, 'mortality rate': 8.333333333333332}, 'Malta': {'confirmed': 196, 'deaths': 0, 'mortality rate': 0.0}, 'Mauritania': {'confirmed': 6, 'deaths': 1, 'mortality rate': 16.666666666666664}, 'Mauritius': {'confirmed': 169, 'deaths': 7, 'mortality rate': 4.142011834319527}, 'Mexico': {'confirmed': 1378, 'deaths': 37, 'mortality rate': 2.6850507982583456}, 'Moldova': {'confirmed': 505, 'deaths': 6, 'mortality rate': 1.188118811881188}, 'Monaco': {'confirmed': 60, 'deaths': 1, 'mortality rate': 1.6666666666666667}, 'Mongolia': {'confirmed': 14, 'deaths': 0, 'mortality rate': 0.0}, 'Montenegro': {'confirmed': 144, 'deaths': 2, 'mortality rate': 1.3888888888888888}, 'Morocco': {'confirmed': 708, 'deaths': 44, 'mortality rate': 6.214689265536723}, 'Mozambique': {'confirmed': 10, 'deaths': 0, 'mortality rate': 0.0}, 'Namibia': {'confirmed': 14, 'deaths': 0, 'mortality rate': 0.0}, 'Nepal': {'confirmed': 6, 'deaths': 0, 'mortality rate': 0.0}, 'New Zealand': {'confirmed': 797, 'deaths': 1, 'mortality rate': 0.12547051442910914}, 'Nicaragua': {'confirmed': 5, 'deaths': 1, 'mortality rate': 20.0}, 'Niger': {'confirmed': 98, 'deaths': 5, 'mortality rate': 5.1020408163265305}, 'Nigeria': {'confirmed': 184, 'deaths': 2, 'mortality rate': 1.0869565217391304}, 'North Macedonia': {'confirmed': 384, 'deaths': 11, 'mortality rate': 2.864583333333333}, 'Norway': {'confirmed': 5147, 'deaths': 50, 'mortality rate': 0.9714396735962697}, 'Oman': {'confirmed': 231, 'deaths': 1, 'mortality rate': 0.4329004329004329}, 'Pakistan': {'confirmed': 2421, 'deaths': 34, 'mortality rate': 1.4043783560512184}, 'Panama': {'confirmed': 1317, 'deaths': 32, 'mortality rate': 2.4297646165527715}, 'Papua New Guinea': {'confirmed': 1, 'deaths': 0, 'mortality rate': 0.0}, 'Paraguay': {'confirmed': 77, 'deaths': 3, 'mortality rate': 3.896103896103896}, 'Peru': {'confirmed': 1414, 'deaths': 55, 'mortality rate': 3.889674681753889}, 'Philippines': {'confirmed': 2633, 'deaths': 107, 'mortality rate': 4.063805545005697}, 'Poland': {'confirmed': 2946, 'deaths': 57, 'mortality rate': 1.9348268839103868}, 'Portugal': {'confirmed': 9034, 'deaths': 209, 'mortality rate': 2.3134823998228913}, 'Qatar': {'confirmed': 949, 'deaths': 3, 'mortality rate': 0.31612223393045313}, 'Romania': {'confirmed': 2738, 'deaths': 115, 'mortality rate': 4.200146092037984}, 'Russia': {'confirmed': 3548, 'deaths': 30, 'mortality rate': 0.8455467869222096}, 'Rwanda': {'confirmed': 84, 'deaths': 0, 'mortality rate': 0.0}, 'Saint Kitts and Nevis': {'confirmed': 9, 'deaths': 0, 'mortality rate': 0.0}, 'Saint Lucia': {'confirmed': 13, 'deaths': 0, 'mortality rate': 0.0}, 'Saint Vincent and the Grenadines': {'confirmed': 2, 'deaths': 0, 'mortality rate': 0.0}, 'San Marino': {'confirmed': 245, 'deaths': 30, 'mortality rate': 12.244897959183673}, 'Saudi Arabia': {'confirmed': 1885, 'deaths': 21, 'mortality rate': 1.1140583554376657}, 'Senegal': {'confirmed': 195, 'deaths': 1, 'mortality rate': 0.5128205128205128}, 'Serbia': {'confirmed': 1171, 'deaths': 31, 'mortality rate': 2.6473099914602902}, 'Seychelles': {'confirmed': 10, 'deaths': 0, 'mortality rate': 0.0}, 'Sierra Leone': {'confirmed': 2, 'deaths': 0, 'mortality rate': 0.0}, 'Singapore': {'confirmed': 1049, 'deaths': 4, 'mortality rate': 0.3813155386081983}, 'Slovakia': {'confirmed': 426, 'deaths': 1, 'mortality rate': 0.2347417840375587}, 'Slovenia': {'confirmed': 897, 'deaths': 17, 'mortality rate': 1.89520624303233}, 'Somalia': {'confirmed': 5, 'deaths': 0, 'mortality rate': 0.0}, 'South Africa': {'confirmed': 1462, 'deaths': 5, 'mortality rate': 0.3419972640218878}, 'Spain': {'confirmed': 112065, 'deaths': 10348, 'mortality rate': 9.233926738946147}, 'Sri Lanka': {'confirmed': 151, 'deaths': 4, 'mortality rate': 2.6490066225165565}, 'Sudan': {'confirmed': 8, 'deaths': 2, 'mortality rate': 25.0}, 'Suriname': {'confirmed': 10, 'deaths': 0, 'mortality rate': 0.0}, 'Sweden': {'confirmed': 5568, 'deaths': 308, 'mortality rate': 5.531609195402299}, 'Switzerland': {'confirmed': 18827, 'deaths': 536, 'mortality rate': 2.8469750889679712}, 'Syria': {'confirmed': 16, 'deaths': 2, 'mortality rate': 12.5}, 'Taiwan*': {'confirmed': 339, 'deaths': 5, 'mortality rate': 1.4749262536873156}, 'Tanzania': {'confirmed': 20, 'deaths': 1, 'mortality rate': 5.0}, 'Thailand': {'confirmed': 1875, 'deaths': 15, 'mortality rate': 0.8}, 'Timor-Leste': {'confirmed': 1, 'deaths': 0, 'mortality rate': 0.0}, 'Togo': {'confirmed': 39, 'deaths': 2, 'mortality rate': 5.128205128205128}, 'Trinidad and Tobago': {'confirmed': 94, 'deaths': 5, 'mortality rate': 5.319148936170213}, 'Tunisia': {'confirmed': 455, 'deaths': 14, 'mortality rate': 3.076923076923077}, 'Turkey': {'confirmed': 18135, 'deaths': 356, 'mortality rate': 1.9630548662806728}, 'Uganda': {'confirmed': 45, 'deaths': 0, 'mortality rate': 0.0}, 'Ukraine': {'confirmed': 897, 'deaths': 22, 'mortality rate': 2.4526198439241917}, 'United Arab Emirates': {'confirmed': 1024, 'deaths': 8, 'mortality rate': 0.78125}, 'Uruguay': {'confirmed': 350, 'deaths': 4, 'mortality rate': 1.1428571428571428}, 'Uzbekistan': {'confirmed': 205, 'deaths': 2, 'mortality rate': 0.975609756097561}, 'Venezuela': {'confirmed': 146, 'deaths': 5, 'mortality rate': 3.4246575342465753}, 'Vietnam': {'confirmed': 233, 'deaths': 0, 'mortality rate': 0.0}, 'West Bank and Gaza': {'confirmed': 161, 'deaths': 1, 'mortality rate': 0.6211180124223602}, 'Zambia': {'confirmed': 39, 'deaths': 1, 'mortality rate': 2.564102564102564}, 'Zimbabwe': {'confirmed': 9, 'deaths': 1, 'mortality rate': 11.11111111111111}}\n"
     ]
    }
   ],
   "source": [
    "print(countries)"
   ]
  },
  {
   "cell_type": "code",
   "execution_count": 25,
   "metadata": {},
   "outputs": [
    {
     "name": "stdout",
     "output_type": "stream",
     "text": [
      "['US', 'Canada', 'United Kingdom', 'China', 'Netherlands', 'Australia', 'Denmark', 'France', 'Afghanistan', 'Albania', 'Algeria', 'Andorra', 'Angola', 'Antigua and Barbuda', 'Argentina', 'Armenia', 'Austria', 'Azerbaijan', 'Bahamas', 'Bahrain', 'Bangladesh', 'Barbados', 'Belarus', 'Belgium', 'Belize', 'Benin', 'Bhutan', 'Bolivia', 'Bosnia and Herzegovina', 'Botswana', 'Brazil', 'Brunei', 'Bulgaria', 'Burkina Faso', 'Burma', 'Burundi', 'Cabo Verde', 'Cambodia', 'Cameroon', 'Central African Republic', 'Chad', 'Chile', 'Colombia', 'Congo (Brazzaville)', 'Congo (Kinshasa)', 'Costa Rica', \"Cote d'Ivoire\", 'Croatia', 'Cuba', 'Cyprus', 'Czechia', 'Diamond Princess', 'Djibouti', 'Dominica', 'Dominican Republic', 'Ecuador', 'Egypt', 'El Salvador', 'Equatorial Guinea', 'Eritrea', 'Estonia', 'Eswatini', 'Ethiopia', 'Fiji', 'Finland', 'Gabon', 'Gambia', 'Georgia', 'Germany', 'Ghana', 'Greece', 'Grenada', 'Guatemala', 'Guinea', 'Guinea-Bissau', 'Guyana', 'Haiti', 'Holy See', 'Honduras', 'Hungary', 'Iceland', 'India', 'Indonesia', 'Iran', 'Iraq', 'Ireland', 'Israel', 'Italy', 'Jamaica', 'Japan', 'Jordan', 'Kazakhstan', 'Kenya', 'Korea, South', 'Kosovo', 'Kuwait', 'Kyrgyzstan', 'Laos', 'Latvia', 'Lebanon', 'Liberia', 'Libya', 'Liechtenstein', 'Lithuania', 'Luxembourg', 'MS Zaandam', 'Madagascar', 'Malawi', 'Malaysia', 'Maldives', 'Mali', 'Malta', 'Mauritania', 'Mauritius', 'Mexico', 'Moldova', 'Monaco', 'Mongolia', 'Montenegro', 'Morocco', 'Mozambique', 'Namibia', 'Nepal', 'New Zealand', 'Nicaragua', 'Niger', 'Nigeria', 'North Macedonia', 'Norway', 'Oman', 'Pakistan', 'Panama', 'Papua New Guinea', 'Paraguay', 'Peru', 'Philippines', 'Poland', 'Portugal', 'Qatar', 'Romania', 'Russia', 'Rwanda', 'Saint Kitts and Nevis', 'Saint Lucia', 'Saint Vincent and the Grenadines', 'San Marino', 'Saudi Arabia', 'Senegal', 'Serbia', 'Seychelles', 'Sierra Leone', 'Singapore', 'Slovakia', 'Slovenia', 'Somalia', 'South Africa', 'Spain', 'Sri Lanka', 'Sudan', 'Suriname', 'Sweden', 'Switzerland', 'Syria', 'Taiwan*', 'Tanzania', 'Thailand', 'Timor-Leste', 'Togo', 'Trinidad and Tobago', 'Tunisia', 'Turkey', 'Uganda', 'Ukraine', 'United Arab Emirates', 'Uruguay', 'Uzbekistan', 'Venezuela', 'Vietnam', 'West Bank and Gaza', 'Zambia', 'Zimbabwe']\n"
     ]
    }
   ],
   "source": [
    "country_list = [country for country in countries.keys()]\n",
    "print(country_list)"
   ]
  },
  {
   "cell_type": "code",
   "execution_count": 27,
   "metadata": {},
   "outputs": [
    {
     "name": "stdout",
     "output_type": "stream",
     "text": [
      "[243453, 11284, 34173, 82432, 14788, 5116, 3573, 59929, 273, 277, 986, 428, 8, 9, 1133, 663, 11129, 400, 24, 643, 56, 46, 304, 15348, 3, 13, 5, 123, 533, 4, 8044, 133, 457, 288, 20, 3, 6, 110, 306, 3, 8, 3404, 1161, 22, 134, 396, 194, 1011, 233, 356, 3858, 712, 40, 12, 1380, 3163, 865, 41, 15, 22, 858, 9, 29, 7, 1518, 21, 4, 134, 84794, 204, 1544, 10, 47, 52, 9, 19, 16, 7, 219, 585, 1319, 2543, 1790, 50468, 772, 3849, 6857, 115242, 47, 2495, 299, 435, 110, 9976, 125, 342, 116, 10, 458, 494, 6, 11, 75, 649, 2487, 9, 59, 3, 3116, 19, 36, 196, 6, 169, 1378, 505, 60, 14, 144, 708, 10, 14, 6, 797, 5, 98, 184, 384, 5147, 231, 2421, 1317, 1, 77, 1414, 2633, 2946, 9034, 949, 2738, 3548, 84, 9, 13, 2, 245, 1885, 195, 1171, 10, 2, 1049, 426, 897, 5, 1462, 112065, 151, 8, 10, 5568, 18827, 16, 339, 20, 1875, 1, 39, 94, 455, 18135, 45, 897, 1024, 350, 205, 146, 233, 161, 39, 9]\n",
      "[5926, 139, 2926, 3322, 1341, 24, 123, 5398, 6, 16, 86, 15, 2, 0, 36, 7, 158, 5, 1, 4, 6, 0, 4, 1011, 0, 0, 0, 8, 16, 1, 324, 1, 10, 16, 1, 0, 1, 0, 7, 0, 0, 18, 19, 2, 13, 2, 1, 7, 6, 10, 44, 11, 0, 0, 60, 120, 58, 2, 0, 0, 11, 0, 0, 0, 19, 1, 1, 0, 1107, 5, 53, 0, 1, 0, 0, 4, 0, 0, 14, 21, 4, 72, 170, 3160, 54, 98, 36, 13915, 3, 62, 5, 3, 3, 169, 1, 0, 0, 0, 0, 16, 0, 1, 0, 9, 30, 2, 0, 0, 50, 0, 3, 0, 1, 7, 37, 6, 1, 0, 2, 44, 0, 0, 0, 1, 1, 5, 2, 11, 50, 1, 34, 32, 0, 3, 55, 107, 57, 209, 3, 115, 30, 0, 0, 0, 0, 30, 21, 1, 31, 0, 0, 4, 1, 17, 0, 5, 10348, 4, 2, 0, 308, 536, 2, 5, 1, 15, 0, 2, 5, 14, 356, 0, 22, 8, 4, 2, 5, 0, 1, 1, 1]\n"
     ]
    }
   ],
   "source": [
    "confirmed_list = [countries[country]['confirmed'] for country in countries.keys()]\n",
    "death_list = [countries[country]['deaths'] for country in countries.keys()]\n",
    "print(confirmed_list)\n",
    "print(death_list)"
   ]
  },
  {
   "cell_type": "code",
   "execution_count": 29,
   "metadata": {},
   "outputs": [
    {
     "name": "stdout",
     "output_type": "stream",
     "text": [
      "[2.4341453997280786, 1.2318326834455866, 8.562315278143563, 4.029988354037267, 9.068163375710036, 0.46911649726348714, 3.4424853064651555, 9.007325334979727, 2.197802197802198, 5.776173285198556, 8.72210953346856, 3.5046728971962615, 25.0, 0.0, 3.1774051191526915, 1.0558069381598794, 1.4197142600413335, 1.25, 4.166666666666666, 0.6220839813374806, 10.714285714285714, 0.0, 1.3157894736842104, 6.587177482408131, 0.0, 0.0, 0.0, 6.504065040650407, 3.0018761726078798, 25.0, 4.027846842366982, 0.7518796992481203, 2.1881838074398248, 5.555555555555555, 5.0, 0.0, 16.666666666666664, 0.0, 2.287581699346405, 0.0, 0.0, 0.5287896592244419, 1.636520241171404, 9.090909090909092, 9.701492537313433, 0.5050505050505051, 0.5154639175257731, 0.6923837784371909, 2.575107296137339, 2.8089887640449436, 1.1404872991187145, 1.544943820224719, 0.0, 0.0, 4.3478260869565215, 3.7938665823585205, 6.705202312138728, 4.878048780487805, 0.0, 0.0, 1.282051282051282, 0.0, 0.0, 0.0, 1.251646903820817, 4.761904761904762, 25.0, 0.0, 1.305516899780645, 2.450980392156863, 3.432642487046632, 0.0, 2.127659574468085, 0.0, 0.0, 21.052631578947366, 0.0, 0.0, 6.392694063926941, 3.5897435897435894, 0.3032600454890068, 2.8313016122689736, 9.497206703910614, 6.2613933581675525, 6.994818652849741, 2.546115874253053, 0.5250109377278693, 12.074590860970828, 6.382978723404255, 2.4849699398797593, 1.6722408026755853, 0.6896551724137931, 2.727272727272727, 1.6940657578187652, 0.8, 0.0, 0.0, 0.0, 0.0, 3.2388663967611335, 0.0, 9.090909090909092, 0.0, 1.386748844375963, 1.2062726176115801, 22.22222222222222, 0.0, 0.0, 1.6046213093709885, 0.0, 8.333333333333332, 0.0, 16.666666666666664, 4.142011834319527, 2.6850507982583456, 1.188118811881188, 1.6666666666666667, 0.0, 1.3888888888888888, 6.214689265536723, 0.0, 0.0, 0.0, 0.12547051442910914, 20.0, 5.1020408163265305, 1.0869565217391304, 2.864583333333333, 0.9714396735962697, 0.4329004329004329, 1.4043783560512184, 2.4297646165527715, 0.0, 3.896103896103896, 3.889674681753889, 4.063805545005697, 1.9348268839103868, 2.3134823998228913, 0.31612223393045313, 4.200146092037984, 0.8455467869222096, 0.0, 0.0, 0.0, 0.0, 12.244897959183673, 1.1140583554376657, 0.5128205128205128, 2.6473099914602902, 0.0, 0.0, 0.3813155386081983, 0.2347417840375587, 1.89520624303233, 0.0, 0.3419972640218878, 9.233926738946147, 2.6490066225165565, 25.0, 0.0, 5.531609195402299, 2.8469750889679712, 12.5, 1.4749262536873156, 5.0, 0.8, 0.0, 5.128205128205128, 5.319148936170213, 3.076923076923077, 1.9630548662806728, 0.0, 2.4526198439241917, 0.78125, 1.1428571428571428, 0.975609756097561, 3.4246575342465753, 0.0, 0.6211180124223602, 2.564102564102564, 11.11111111111111]\n"
     ]
    }
   ],
   "source": [
    "lethality_list = [death/confirmed*100 for confirmed, death in zip(confirmed_list, death_list)]\n",
    "print(lethality_list)"
   ]
  }
 ],
 "metadata": {
  "kernelspec": {
   "display_name": "Python 3",
   "language": "python",
   "name": "python3"
  },
  "language_info": {
   "codemirror_mode": {
    "name": "ipython",
    "version": 3
   },
   "file_extension": ".py",
   "mimetype": "text/x-python",
   "name": "python",
   "nbconvert_exporter": "python",
   "pygments_lexer": "ipython3",
   "version": "3.7.3"
  }
 },
 "nbformat": 4,
 "nbformat_minor": 4
}
